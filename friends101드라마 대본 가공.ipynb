{
 "cells": [
  {
   "cell_type": "code",
   "execution_count": 1,
   "metadata": {},
   "outputs": [],
   "source": [
    "import os,re,codecs"
   ]
  },
  {
   "cell_type": "code",
   "execution_count": 2,
   "metadata": {},
   "outputs": [],
   "source": [
    "os.chdir('c:\\pda')"
   ]
  },
  {
   "cell_type": "code",
   "execution_count": 4,
   "metadata": {},
   "outputs": [],
   "source": [
    "f=open('friends101.txt','r',encoding='utf-8')"
   ]
  },
  {
   "cell_type": "code",
   "execution_count": 5,
   "metadata": {},
   "outputs": [],
   "source": [
    "script101 = f.read()"
   ]
  },
  {
   "cell_type": "code",
   "execution_count": 30,
   "metadata": {},
   "outputs": [],
   "source": [
    "char = re.findall(r'[A-Za-z]+:',script101)"
   ]
  },
  {
   "cell_type": "code",
   "execution_count": 31,
   "metadata": {},
   "outputs": [
    {
     "data": {
      "text/plain": [
       "{'All:',\n",
       " 'Chandler:',\n",
       " 'Customer:',\n",
       " 'Frannie:',\n",
       " 'Joey:',\n",
       " 'Monica:',\n",
       " 'Note:',\n",
       " 'Paul:',\n",
       " 'Phoebe:',\n",
       " 'Rachel:',\n",
       " 'Ross:',\n",
       " 'Scene:',\n",
       " 'TV:',\n",
       " 'Waitress:',\n",
       " 'by:',\n",
       " 'me:'}"
      ]
     },
     "execution_count": 31,
     "metadata": {},
     "output_type": "execute_result"
    }
   ],
   "source": [
    "set(char)"
   ]
  },
  {
   "cell_type": "code",
   "execution_count": 34,
   "metadata": {},
   "outputs": [],
   "source": [
    "charList = []\n",
    "for i in set(char):\n",
    "    charList += [re.sub(r':','',i)]"
   ]
  },
  {
   "cell_type": "code",
   "execution_count": 35,
   "metadata": {},
   "outputs": [
    {
     "name": "stdout",
     "output_type": "stream",
     "text": [
      "['by', 'Waitress', 'Paul', 'me', 'All', 'Rachel', 'Joey', 'Monica', 'Chandler', 'Ross', 'Phoebe', 'Customer', 'TV', 'Note', 'Frannie', 'Scene']\n"
     ]
    }
   ],
   "source": [
    "print(charList)"
   ]
  },
  {
   "cell_type": "code",
   "execution_count": 40,
   "metadata": {},
   "outputs": [],
   "source": [
    "for i in charList:\n",
    "    newf = open(i+\".txt\",'w')\n",
    "    lines = re.findall(i+':.+',script101)\n",
    "    for i in lines:\n",
    "        newf.write(i+'\\n')"
   ]
  },
  {
   "cell_type": "code",
   "execution_count": null,
   "metadata": {},
   "outputs": [],
   "source": []
  }
 ],
 "metadata": {
  "kernelspec": {
   "display_name": "Python 3",
   "language": "python",
   "name": "python3"
  },
  "language_info": {
   "codemirror_mode": {
    "name": "ipython",
    "version": 3
   },
   "file_extension": ".py",
   "mimetype": "text/x-python",
   "name": "python",
   "nbconvert_exporter": "python",
   "pygments_lexer": "ipython3",
   "version": "3.8.5"
  }
 },
 "nbformat": 4,
 "nbformat_minor": 4
}
